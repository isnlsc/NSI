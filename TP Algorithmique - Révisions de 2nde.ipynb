{
 "cells": [
  {
   "cell_type": "code",
   "execution_count": 1,
   "metadata": {},
   "outputs": [],
   "source": [
    "# -*- coding: utf-8 -*-"
   ]
  },
  {
   "cell_type": "markdown",
   "metadata": {},
   "source": [
    "# TP Python : ALGORITHMIQUE - REVISIONS DE 2nde\n",
    "*********************\n",
    "## Olivier THÖNI\n",
    "\n",
    "## FACULTÉ d'ÉDUCATION UCO\n",
    "*********************\n",
    "*document sous licence Creative Commons - CC : By/NC/SA*"
   ]
  },
  {
   "cell_type": "markdown",
   "metadata": {},
   "source": [
    "## La suite de Syracuse\n",
    "\n",
    "*- Prenez un entier, s'il est pair, divisez-le par 2, sinon, multipliez-le par 3 et ajoutez 1*"
   ]
  },
  {
   "cell_type": "code",
   "execution_count": 2,
   "metadata": {},
   "outputs": [
    {
     "name": "stdout",
     "output_type": "stream",
     "text": [
      "Entrez un entier n : 5\n",
      "5  impair.\n",
      "n devient  16\n"
     ]
    }
   ],
   "source": [
    "n = int(input('Entrez un entier n : '))\n",
    "\n",
    "if n%2 == 0 : \n",
    "# Que penser du test if n/2 ==int(n/2) : ?\n",
    "# ou bien encore if n/2 == n//2 : ?\n",
    "    print(n, ' pair.')\n",
    "    n = n//2\n",
    "    \n",
    "else :\n",
    "    print(n, ' impair.')\n",
    "    n = 3*n + 1\n",
    "\n",
    "print('n devient ', n)"
   ]
  },
  {
   "cell_type": "markdown",
   "metadata": {},
   "source": [
    "*- Réitérez le procédé de Syracuse jusqu'à obtenir 1. (On fera confiance aux mathématiciens qui n'ont jamais constaté de contre-exemple...)*"
   ]
  },
  {
   "cell_type": "code",
   "execution_count": 3,
   "metadata": {},
   "outputs": [
    {
     "name": "stdout",
     "output_type": "stream",
     "text": [
      "Entrez un entier n : 7\n",
      "7  22  11  34  17  52  26  13  40  20  10  5  16  8  4  2  1  "
     ]
    }
   ],
   "source": [
    "n = int(input('Entrez un entier n : '))\n",
    "print(n, \" \", end = '')\n",
    "\n",
    "while  n != 1 :\n",
    "    if n%2 == 0 :\n",
    "        n = n//2\n",
    "        \n",
    "    else :\n",
    "        n = 3*n + 1\n",
    "\n",
    "    print(n, \" \", end = '')\n"
   ]
  },
  {
   "cell_type": "markdown",
   "metadata": {},
   "source": [
    "*- Mesurez le temps de vol, c'est-à-dire le nombre d'états successifs de n de l'état initial jusqu'à 1*"
   ]
  },
  {
   "cell_type": "code",
   "execution_count": 4,
   "metadata": {},
   "outputs": [
    {
     "name": "stdout",
     "output_type": "stream",
     "text": [
      "Entrez un entier n : 7\n",
      "7  22  11  34  17  52  26  13  40  20  10  5  16  8  4  2  1  \n",
      "Temps de vol :  17\n"
     ]
    }
   ],
   "source": [
    "n = int(input('Entrez un entier n : '))\n",
    "print(n, \" \", end = '')\n",
    "\n",
    "temps2vol = 1\n",
    "\n",
    "while  n != 1 :\n",
    "    temps2vol = temps2vol + 1\n",
    "    if n%2 == 0 :\n",
    "        n = n//2\n",
    "        \n",
    "    else :\n",
    "        n = 3*n + 1\n",
    "\n",
    "    print(n, \" \", end = '')\n",
    "print()\n",
    "print(\"Temps de vol : \", temps2vol)\n"
   ]
  },
  {
   "cell_type": "markdown",
   "metadata": {},
   "source": [
    "*- Mesurez l'altitude, c'est-à-dire l'entier le plus élevé atteint pendant le \"vol\".*"
   ]
  },
  {
   "cell_type": "code",
   "execution_count": 5,
   "metadata": {},
   "outputs": [
    {
     "name": "stdout",
     "output_type": "stream",
     "text": [
      "Entrez un entier n : 7\n",
      "7  22  11  34  17  52  26  13  40  20  10  5  16  8  4  2  1  \n",
      "Temps de vol :  17\n",
      "Altitude :  52\n"
     ]
    }
   ],
   "source": [
    "n = int(input('Entrez un entier n : '))\n",
    "print(n, \" \", end = '')\n",
    "\n",
    "temps2vol = 1\n",
    "altitude = n\n",
    "\n",
    "while  n != 1 :\n",
    "    temps2vol = temps2vol + 1\n",
    "    if n%2 == 0 :\n",
    "        n = n//2\n",
    "        \n",
    "    else :\n",
    "        n = 3*n + 1\n",
    "        if n > altitude :\n",
    "            altitude = n\n",
    "\n",
    "    print(n, \" \", end = '')\n",
    "print()\n",
    "print(\"Temps de vol : \", temps2vol)\n",
    "print(\"Altitude : \", altitude)\n"
   ]
  },
  {
   "cell_type": "markdown",
   "metadata": {},
   "source": [
    "*- Nul n'a jamais trouvé de contre-exemple à la conjecture suivante : \n",
    " \"Quel que soit l'entier choisi au départ, le processus de Syracuse rencontre toujours la valeur 1 !\" \n",
    " Sauriez-vous le prouver pour tous les entiers compris entre 1 et 5000 ? (là encore, question finitude, mieux vaut que la conjecture soit vraie...)"
   ]
  },
  {
   "cell_type": "code",
   "execution_count": 6,
   "metadata": {},
   "outputs": [
    {
     "name": "stdout",
     "output_type": "stream",
     "text": [
      "\n",
      "Terminé, conjecture vérifiée jusqu'à 5000\n"
     ]
    }
   ],
   "source": [
    "for k in range(1,5001) :\n",
    "    n = k\n",
    "    \n",
    "    while  n != 1 :\n",
    "        if n%2 == 0 :\n",
    "            n = n//2\n",
    "            \n",
    "        else :\n",
    "            n = 3*n + 1\n",
    "    \n",
    "    #print(k, \" v, \", end = '')\n",
    "\n",
    "print()\n",
    "print(\"Terminé, conjecture vérifiée jusqu'à 5000\")"
   ]
  },
  {
   "cell_type": "markdown",
   "metadata": {},
   "source": [
    "*- Quand on effectue la vérification de la conjecture de 1 à 5000, quel est le record des temps de vol ? Pour quel entier de départ ? \n",
    "Quel est le record des altitudes ? Pour quel entier de départ ?*"
   ]
  },
  {
   "cell_type": "code",
   "execution_count": 7,
   "metadata": {},
   "outputs": [
    {
     "name": "stdout",
     "output_type": "stream",
     "text": [
      "\n",
      "Terminé, conjecture vérifiée jusqu'à 5000\n",
      "Record des temps de vol :  238 , pour n =  3711\n",
      "Record des altitudes :  8153620 , pour n =  4591\n"
     ]
    }
   ],
   "source": [
    "record_temps2vol = 1\n",
    "record_altitude = n\n",
    "\n",
    "for k in range(1,5001) :\n",
    "    n = k\n",
    "    temps2vol = 1\n",
    "    altitude = n\n",
    "\n",
    "    while  n != 1 :\n",
    "        temps2vol = temps2vol + 1\n",
    "        if n%2 == 0 :\n",
    "            n = n//2\n",
    "            \n",
    "        else :\n",
    "            n = 3*n + 1\n",
    "            if n > altitude :\n",
    "                altitude = n\n",
    "                \n",
    "    if temps2vol > record_temps2vol :\n",
    "        record_temps2vol = temps2vol\n",
    "        k_record_tdv = k\n",
    "    if altitude > record_altitude :\n",
    "        record_altitude = altitude\n",
    "        k_record_alt = k\n",
    "    \n",
    "    #print(k, \" v, \", end = '')\n",
    "\n",
    "print()\n",
    "print(\"Terminé, conjecture vérifiée jusqu'à 5000\")\n",
    "print(\"Record des temps de vol : \", record_temps2vol, \", pour n = \", k_record_tdv)\n",
    "print(\"Record des altitudes : \", record_altitude, \", pour n = \", k_record_alt)"
   ]
  },
  {
   "cell_type": "code",
   "execution_count": null,
   "metadata": {},
   "outputs": [],
   "source": []
  }
 ],
 "metadata": {
  "kernelspec": {
   "display_name": "Python 3",
   "language": "python",
   "name": "python3"
  },
  "language_info": {
   "codemirror_mode": {
    "name": "ipython",
    "version": 3
   },
   "file_extension": ".py",
   "mimetype": "text/x-python",
   "name": "python",
   "nbconvert_exporter": "python",
   "pygments_lexer": "ipython3",
   "version": "3.7.1"
  }
 },
 "nbformat": 4,
 "nbformat_minor": 2
}
